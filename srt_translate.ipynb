{
 "cells": [
  {
   "cell_type": "code",
   "execution_count": null,
   "id": "f16049ba-e661-472f-a8a5-962798378009",
   "metadata": {},
   "outputs": [],
   "source": [
    "!pip install pysubs2\n",
    "!pip install google-cloud-translate==2.0.1"
   ]
  },
  {
   "cell_type": "code",
   "execution_count": 25,
   "id": "a5736713-b9d9-4a68-b1b4-3c62925996a1",
   "metadata": {},
   "outputs": [],
   "source": [
    "import pysubs2\n",
    "import os\n",
    "import time\n",
    "from google.cloud import translate_v2 as translate"
   ]
  },
  {
   "cell_type": "code",
   "execution_count": null,
   "id": "7b10aa9f-4e1d-4cdf-8fef-3f1ae02d619d",
   "metadata": {},
   "outputs": [],
   "source": [
    "os.environ[\"GOOGLE_APPLICATION_CREDENTIALS\"] = \"amazing-aleph-351511-a12e8ed121dc.json\""
   ]
  },
  {
   "cell_type": "code",
   "execution_count": 29,
   "id": "e15f95b8-94c4-468e-a04d-6fb4f3ce33a7",
   "metadata": {},
   "outputs": [],
   "source": [
    "root='dir/'\n",
    "file='video_file'\n",
    "target_lang='de'"
   ]
  },
  {
   "cell_type": "code",
   "execution_count": 30,
   "id": "1226f93e-5005-415d-bcc8-b2c8cd11440f",
   "metadata": {},
   "outputs": [],
   "source": [
    "subs = pysubs2.load(root+f\"{file}.srt\", encoding=\"utf-8\")"
   ]
  },
  {
   "cell_type": "code",
   "execution_count": 33,
   "id": "6dbccd24-539b-4488-9348-8eda356a14e1",
   "metadata": {},
   "outputs": [],
   "source": [
    "translate_client = translate.Client()"
   ]
  },
  {
   "cell_type": "code",
   "execution_count": 34,
   "id": "54a83247-49de-4ec8-af74-4aea9be47170",
   "metadata": {},
   "outputs": [],
   "source": [
    "for line in subs:\n",
    "    time.sleep(0.1)\n",
    "    line.text = \"{\\\\be1}\" + translate_client.translate(line.text, target_language=target_lang)['translatedText']\n",
    "subs.save(root+f\"{file}.{target_lang}.srt\")"
   ]
  }
 ],
 "metadata": {
  "kernelspec": {
   "display_name": "Python 3 (ipykernel)",
   "language": "python",
   "name": "python3"
  },
  "language_info": {
   "codemirror_mode": {
    "name": "ipython",
    "version": 3
   },
   "file_extension": ".py",
   "mimetype": "text/x-python",
   "name": "python",
   "nbconvert_exporter": "python",
   "pygments_lexer": "ipython3",
   "version": "3.8.10"
  }
 },
 "nbformat": 4,
 "nbformat_minor": 5
}
