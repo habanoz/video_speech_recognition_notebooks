{
 "cells": [
  {
   "cell_type": "code",
   "execution_count": 1,
   "id": "b396578c-07dd-4c89-bb65-94d08d0b8166",
   "metadata": {},
   "outputs": [
    {
     "name": "stdout",
     "output_type": "stream",
     "text": [
      "Requirement already satisfied: pydub in /home/melek/miniconda3/lib/python3.8/site-packages (0.25.1)\n",
      "Requirement already satisfied: srt in /home/melek/miniconda3/lib/python3.8/site-packages (3.5.3)\n"
     ]
    }
   ],
   "source": [
    "!pip install pydub\n",
    "!pip install srt"
   ]
  },
  {
   "cell_type": "code",
   "execution_count": 2,
   "id": "e623d4df-48ef-426e-a3f4-aec853a7438d",
   "metadata": {},
   "outputs": [],
   "source": [
    "import os\n",
    "import srt\n",
    "import datetime"
   ]
  },
  {
   "cell_type": "code",
   "execution_count": 37,
   "id": "064124ca-5862-4abc-9dce-cb8a6e21ca26",
   "metadata": {},
   "outputs": [],
   "source": [
    "from pydub import AudioSegment\n",
    "from pydub.utils import make_chunks"
   ]
  },
  {
   "cell_type": "code",
   "execution_count": 38,
   "id": "826cf7fc-9259-4fa9-bdeb-7db1ce1573d4",
   "metadata": {},
   "outputs": [],
   "source": [
    "root='dir/'\n",
    "file='video_file'"
   ]
  },
  {
   "cell_type": "code",
   "execution_count": 39,
   "id": "ac2125c2-2902-4233-b653-061bc54f1568",
   "metadata": {},
   "outputs": [],
   "source": [
    "path = root+'5M_16K'"
   ]
  },
  {
   "cell_type": "code",
   "execution_count": null,
   "id": "ff164f18-66d3-44da-bba4-694e2a3115cb",
   "metadata": {},
   "outputs": [],
   "source": [
    "# Extract audio from video and convert to mono\n",
    "video = AudioSegment.from_file(f\"{root}{file}.mp4\", \"mp4\")\n",
    "audio = video.set_channels(1)"
   ]
  },
  {
   "cell_type": "code",
   "execution_count": 7,
   "id": "b41ab619-c3f3-46fe-9cf2-78e0c63901a7",
   "metadata": {},
   "outputs": [],
   "source": [
    "audio = audio.set_frame_rate(16000)"
   ]
  },
  {
   "cell_type": "code",
   "execution_count": 8,
   "id": "f9763068-e60b-402c-991d-f6f959b1c0c8",
   "metadata": {},
   "outputs": [],
   "source": [
    "chunk_length_ms = 5 * 60 * 1000 # pydub calculates in millisec\n",
    "chunks = make_chunks(audio, chunk_length_ms)"
   ]
  },
  {
   "cell_type": "code",
   "execution_count": null,
   "id": "667a9d4d-2ed1-4ee9-8cdb-2cec95e00ac2",
   "metadata": {},
   "outputs": [],
   "source": [
    "# Export all of the individual chunks as wav files\n",
    "for i, chunk in enumerate(chunks):\n",
    "    chunk_name = path+\"/chunk{0}.wav\".format(i)\n",
    "    print(\"exporting\", chunk_name)\n",
    "    chunk.export(chunk_name, format=\"wav\")"
   ]
  },
  {
   "cell_type": "markdown",
   "id": "87232c39-d257-4d77-b690-abf5411f9ef6",
   "metadata": {},
   "source": [
    "## Whisper"
   ]
  },
  {
   "cell_type": "code",
   "execution_count": null,
   "id": "652f85bc-5a61-4c4a-bc2f-62912841b924",
   "metadata": {},
   "outputs": [],
   "source": [
    "pip install -U openai-whisper"
   ]
  },
  {
   "cell_type": "code",
   "execution_count": null,
   "id": "c0e4b56e-6f2a-4bf1-abe5-f893d6ab73d7",
   "metadata": {},
   "outputs": [],
   "source": [
    "import whisper"
   ]
  },
  {
   "cell_type": "code",
   "execution_count": 15,
   "id": "f4dc613e-147e-459f-b502-71df93c4f90e",
   "metadata": {},
   "outputs": [],
   "source": [
    "# Load audio file\n",
    "model = whisper.load_model(\"large\")"
   ]
  },
  {
   "cell_type": "code",
   "execution_count": 17,
   "id": "6c4905b5-8c86-4eff-9858-721ceee2ebd5",
   "metadata": {},
   "outputs": [
    {
     "name": "stderr",
     "output_type": "stream",
     "text": [
      "/home/melek/miniconda3/lib/python3.8/site-packages/whisper/transcribe.py:114: UserWarning: FP16 is not supported on CPU; using FP32 instead\n",
      "  warnings.warn(\"FP16 is not supported on CPU; using FP32 instead\")\n"
     ]
    },
    {
     "data": {
      "text/plain": [
       "\" This week on Total Kombat, Shawn Strickland wants a piece of Israel Adesanya. You know what? This guy's a champion. Do something about it. You know what? This guy's a champion. Do something about it then. Canelo Alvarez swaps out one Charlo for another. And is Manny Pacquiao better than Floyd Mayweather? He lost. He know he lost. I lost a lot of respect for him after all of this. Shawn Strickland had to overcome an early eye poke from Aboos Magomedov in the main event of UFC on ESPN 47. Once he recovered though, he responded with a second round TKO and the most mousy man in the UFC now wants a title fight. Strickland attempted an early counter, but Magomedov caught him with a finger in the left eye that took nearly three minutes to recover from. Strickland's eyes were closed. Every time they tried to bring new blood, like the Frenchie I fought before, I sent him home. This guy, I sent him back. Every time they tried to bring new blood in, I send them back, claims Strickland. Give me the f***ing title. I earned it. But did he? Strickland wants a shot at the middleweight champ Israel Adesanya. He's got a lot of experience. He's got a lot of experience. He's got a lot of experience. He's got a lot of experience. He's a very experienced middleweight champ, Israel Adesanya, and thinks he's paid his dues. Except that's not how this works. Especially when the win is only his second in a row. Before that, he lost two straight. First to the former champ Alex Pereira, who is out of title contention having moved up to light heavyweight. And then to the higher-ranked, one-time title challenger, Jared Cananier, who has not since losing to the champ, Adesanya. That's all not to mention that the upcoming bout between the former champ Robert Whitaker and the surging South African, Dreykus Duplessis, will likely determine who next faces Adesanya. Strickland may have to sit down and wait a little longer. Strickland's comeback earned him a 50k performance bonus. Nursultan Ruzbayev earned the other for his first round knockout. And Elvis Brenner's third round TKO against Guram Kutatiladze won them both Fight of the Night. In other UFC news, it looks like Amanda Nunez did more than just retire. The dual division champ has been removed from the UFC website's women's bantamweight rankings. And so has the women's featherweight division altogether. And it's probably for the best. Ever since Holly Holm and Germaine Durandamy first fought for the title, it's been a bit of a joke. Aside from the former champ Chris Cyborg and the Invicta champ Megan Anderson, it's basically been bantamweights moving up to fight Nunez for the title. And the UFC flyweight champion Brandon Moreno has expressed his desire to box. But the Mexican doesn't want to give up on MMA. A boxing match is definitely something I want to have on my record when it's all over and I retire. I want to be able to tell my grandkids I boxed as well. So the champ isn't going anywhere just yet. Coming up, how the history books should rank Manny Pacquiao and Floyd Mayweather. Manny Pacquiao is one of the greatest boxers of all time. And so is Floyd Mayweather Jr. But Mayweather is not as good as Pacquiao. And he shouldn't go down in history as being the better of the two. I don't worry about nothing. Can't nobody beat me. I'm Floyd Mayweather. I'm TBE. I'm the best ever. Nobody can beat me. Mayweather can say it all he likes, that he's the best ever. And he's already convinced more than a few people that he is. It's the same technique that Muhammad Ali used when he called himself the greatest. That worked for a lot of people. But only because most of the time, Ali backed it up. And then some. Ali convinced everyone that he was the greatest by beating some of the greatest heavyweights to have ever lived. Sonny Liston. Joe Frazier. Twice.\""
      ]
     },
     "execution_count": 17,
     "metadata": {},
     "output_type": "execute_result"
    }
   ],
   "source": [
    "result = model.transcribe(path+\"chunk0.wav\")\n",
    "result[\"text\"]"
   ]
  },
  {
   "cell_type": "code",
   "execution_count": 34,
   "id": "c202314f-23aa-4be2-9a96-02255ccdca95",
   "metadata": {},
   "outputs": [],
   "source": [
    "from whisper.utils import WriteSRT"
   ]
  },
  {
   "cell_type": "code",
   "execution_count": 35,
   "id": "a73ce315-33ca-4a8a-9710-f1df012c4d31",
   "metadata": {},
   "outputs": [],
   "source": [
    "with open(\"subtitles.srt\", \"w\", encoding=\"utf-8\") as srt_file:\n",
    "        WriteSRT(\".\").write_result(result, srt_file)"
   ]
  }
 ],
 "metadata": {
  "kernelspec": {
   "display_name": "Python 3 (ipykernel)",
   "language": "python",
   "name": "python3"
  },
  "language_info": {
   "codemirror_mode": {
    "name": "ipython",
    "version": 3
   },
   "file_extension": ".py",
   "mimetype": "text/x-python",
   "name": "python",
   "nbconvert_exporter": "python",
   "pygments_lexer": "ipython3",
   "version": "3.8.10"
  }
 },
 "nbformat": 4,
 "nbformat_minor": 5
}
