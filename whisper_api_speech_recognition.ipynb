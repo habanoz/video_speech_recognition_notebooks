{
 "cells": [
  {
   "cell_type": "code",
   "execution_count": 1,
   "id": "b396578c-07dd-4c89-bb65-94d08d0b8166",
   "metadata": {},
   "outputs": [
    {
     "name": "stdout",
     "output_type": "stream",
     "text": [
      "Requirement already satisfied: pydub in /home/melek/miniconda3/lib/python3.8/site-packages (0.25.1)\n",
      "Requirement already satisfied: srt in /home/melek/miniconda3/lib/python3.8/site-packages (3.5.3)\n"
     ]
    }
   ],
   "source": [
    "!pip install pydub\n",
    "!pip install srt\n",
    "!pip install openai"
   ]
  },
  {
   "cell_type": "code",
   "execution_count": 1,
   "id": "e623d4df-48ef-426e-a3f4-aec853a7438d",
   "metadata": {},
   "outputs": [],
   "source": [
    "import os\n",
    "import srt\n",
    "import datetime"
   ]
  },
  {
   "cell_type": "code",
   "execution_count": 2,
   "id": "064124ca-5862-4abc-9dce-cb8a6e21ca26",
   "metadata": {},
   "outputs": [],
   "source": [
    "from pydub import AudioSegment\n",
    "from pydub.utils import make_chunks\n",
    "from google.cloud import speech"
   ]
  },
  {
   "cell_type": "code",
   "execution_count": 27,
   "id": "0f42b4da-8f35-4b6a-8954-1e4d172d2130",
   "metadata": {},
   "outputs": [],
   "source": [
    "root='dir/'\n",
    "file='video_file'"
   ]
  },
  {
   "cell_type": "code",
   "execution_count": 34,
   "id": "ac2125c2-2902-4233-b653-061bc54f1568",
   "metadata": {},
   "outputs": [],
   "source": [
    "path = root+'5M_16K/'"
   ]
  },
  {
   "cell_type": "code",
   "execution_count": 35,
   "id": "ff164f18-66d3-44da-bba4-694e2a3115cb",
   "metadata": {},
   "outputs": [],
   "source": [
    "# Extract audio from video and convert to mono\n",
    "video = AudioSegment.from_file(root+f\"{file}.mp4\", \"mp4\")\n",
    "audio = video.set_channels(1)"
   ]
  },
  {
   "cell_type": "code",
   "execution_count": 36,
   "id": "b41ab619-c3f3-46fe-9cf2-78e0c63901a7",
   "metadata": {},
   "outputs": [],
   "source": [
    "# Set sample rate to 16kHz\n",
    "audio = audio.set_frame_rate(16000)"
   ]
  },
  {
   "cell_type": "code",
   "execution_count": 37,
   "id": "f9763068-e60b-402c-991d-f6f959b1c0c8",
   "metadata": {},
   "outputs": [],
   "source": [
    "chunk_length_ms = 5 * 60 * 1000 # pydub calculates in millisec\n",
    "chunks = make_chunks(audio, chunk_length_ms)"
   ]
  },
  {
   "cell_type": "code",
   "execution_count": null,
   "id": "667a9d4d-2ed1-4ee9-8cdb-2cec95e00ac2",
   "metadata": {},
   "outputs": [],
   "source": [
    "# Export all of the individual chunks as wav files\n",
    "for i, chunk in enumerate(chunks):\n",
    "    chunk_name = path+\"chunk{0}.wav\".format(i)\n",
    "    print(\"exporting\", chunk_name)\n",
    "    chunk.export(chunk_name, format=\"wav\")"
   ]
  },
  {
   "cell_type": "markdown",
   "id": "87232c39-d257-4d77-b690-abf5411f9ef6",
   "metadata": {},
   "source": [
    "## Whisper"
   ]
  },
  {
   "cell_type": "code",
   "execution_count": 4,
   "id": "c0e4b56e-6f2a-4bf1-abe5-f893d6ab73d7",
   "metadata": {},
   "outputs": [],
   "source": [
    "import openai"
   ]
  },
  {
   "cell_type": "code",
   "execution_count": 14,
   "id": "d4af2b8b-0b93-4d3f-bd8c-a64c01a7e720",
   "metadata": {},
   "outputs": [],
   "source": [
    "openai.api_key = 'open-ai-key-here'"
   ]
  },
  {
   "cell_type": "code",
   "execution_count": 40,
   "id": "f4dc613e-147e-459f-b502-71df93c4f90e",
   "metadata": {},
   "outputs": [],
   "source": [
    "audio_file= open(path+\"chunk0.wav\", \"rb\")\n",
    "transcript = openai.Audio.transcribe(\"whisper-1\", audio_file, response_format=\"srt\")"
   ]
  },
  {
   "cell_type": "code",
   "execution_count": 43,
   "id": "a73ce315-33ca-4a8a-9710-f1df012c4d31",
   "metadata": {},
   "outputs": [],
   "source": [
    "with open(root+f\"{file}.srt\", \"w\") as f:\n",
    "    f.write(transcript)"
   ]
  }
 ],
 "metadata": {
  "kernelspec": {
   "display_name": "Python 3 (ipykernel)",
   "language": "python",
   "name": "python3"
  },
  "language_info": {
   "codemirror_mode": {
    "name": "ipython",
    "version": 3
   },
   "file_extension": ".py",
   "mimetype": "text/x-python",
   "name": "python",
   "nbconvert_exporter": "python",
   "pygments_lexer": "ipython3",
   "version": "3.8.10"
  }
 },
 "nbformat": 4,
 "nbformat_minor": 5
}
