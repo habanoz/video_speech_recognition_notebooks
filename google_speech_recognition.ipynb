{
 "cells": [
  {
   "cell_type": "code",
   "execution_count": null,
   "id": "b396578c-07dd-4c89-bb65-94d08d0b8166",
   "metadata": {},
   "outputs": [],
   "source": [
    "!pip install pydub\n",
    "!pip install google-cloud-speech\n",
    "!pip install srt"
   ]
  },
  {
   "cell_type": "code",
   "execution_count": 114,
   "id": "e623d4df-48ef-426e-a3f4-aec853a7438d",
   "metadata": {},
   "outputs": [],
   "source": [
    "import os\n",
    "import srt\n",
    "import datetime"
   ]
  },
  {
   "cell_type": "code",
   "execution_count": 15,
   "id": "9929c7ef-6649-4978-9c20-2abf1e915f17",
   "metadata": {},
   "outputs": [],
   "source": [
    "os.environ[\"GOOGLE_APPLICATION_CREDENTIALS\"] = \"amazing-aleph-351511-a12e8ed121dc.json\""
   ]
  },
  {
   "cell_type": "code",
   "execution_count": 153,
   "id": "064124ca-5862-4abc-9dce-cb8a6e21ca26",
   "metadata": {},
   "outputs": [],
   "source": [
    "from pydub import AudioSegment\n",
    "from pydub.utils import make_chunks\n",
    "from google.cloud import speech"
   ]
  },
  {
   "cell_type": "code",
   "execution_count": 319,
   "id": "8b3a7291-abcb-4880-bfe5-81779e0c6de4",
   "metadata": {},
   "outputs": [],
   "source": [
    "root='dir/'\n",
    "file='video_file'"
   ]
  },
  {
   "cell_type": "code",
   "execution_count": 323,
   "id": "ac2125c2-2902-4233-b653-061bc54f1568",
   "metadata": {},
   "outputs": [],
   "source": [
    "path = root+'59S_16K'"
   ]
  },
  {
   "cell_type": "code",
   "execution_count": null,
   "id": "ff164f18-66d3-44da-bba4-694e2a3115cb",
   "metadata": {},
   "outputs": [],
   "source": [
    "video = AudioSegment.from_file(f\"{root}{file}.mp4\", \"mp4\")\n",
    "audio = video.set_channels(1)"
   ]
  },
  {
   "cell_type": "code",
   "execution_count": 301,
   "id": "b41ab619-c3f3-46fe-9cf2-78e0c63901a7",
   "metadata": {},
   "outputs": [],
   "source": [
    "audio = audio.set_frame_rate(16000)"
   ]
  },
  {
   "cell_type": "code",
   "execution_count": 302,
   "id": "f9763068-e60b-402c-991d-f6f959b1c0c8",
   "metadata": {},
   "outputs": [],
   "source": [
    "chunk_length_ms = 59 * 1000 # pydub calculates in millisec\n",
    "chunks = make_chunks(audio, chunk_length_ms)"
   ]
  },
  {
   "cell_type": "code",
   "execution_count": null,
   "id": "667a9d4d-2ed1-4ee9-8cdb-2cec95e00ac2",
   "metadata": {},
   "outputs": [],
   "source": [
    "for i, chunk in enumerate(chunks):\n",
    "    chunk_name = path+\"/chunk{0}.wav\".format(i)\n",
    "    print(\"exporting\", chunk_name)\n",
    "    chunk.export(chunk_name, format=\"wav\")"
   ]
  },
  {
   "cell_type": "markdown",
   "id": "73bb2027-99dd-4c9c-b20e-dc2eb1eaaedc",
   "metadata": {},
   "source": [
    "## Recognize Google"
   ]
  },
  {
   "cell_type": "code",
   "execution_count": 304,
   "id": "ce669818-b30c-4e35-a7af-f1857c33bd51",
   "metadata": {},
   "outputs": [],
   "source": [
    "def transcribe(audio_file, enable_automatic_punctuation=False):\n",
    "    client = speech.SpeechClient()\n",
    "    \n",
    "    # Load and convert audio file\n",
    "    audio_segment = AudioSegment.from_wav(audio_file)\n",
    "    audio_segment = audio_segment.set_channels(1)\n",
    "    content = audio_segment.export(format=\"wav\").read()\n",
    "    audio = speech.RecognitionAudio(content=content)\n",
    "    \n",
    "    # Configure API request\n",
    "    config = speech.RecognitionConfig(\n",
    "        encoding=speech.RecognitionConfig.AudioEncoding.LINEAR16,\n",
    "        sample_rate_hertz=16000,\n",
    "        language_code=\"en-US\",\n",
    "        model= \"video\",\n",
    "        enable_word_time_offsets=True,\n",
    "        enable_automatic_punctuation=enable_automatic_punctuation\n",
    "    )\n",
    "    \n",
    "    # Send request to API and get response\n",
    "    response = client.recognize(config=config, audio=audio)\n",
    "    \n",
    "    return response"
   ]
  },
  {
   "cell_type": "code",
   "execution_count": 305,
   "id": "1b10d490-87b7-4188-9c69-a0714b4e9163",
   "metadata": {},
   "outputs": [],
   "source": [
    "response_p0 = transcribe(path+\"/chunk0.wav\", enable_automatic_punctuation=True)"
   ]
  },
  {
   "cell_type": "code",
   "execution_count": 306,
   "id": "d2303c2d-8e20-4746-8500-61a0a29e3443",
   "metadata": {},
   "outputs": [],
   "source": [
    "response_p1 = transcribe(path+\"/chunk1.wav\", enable_automatic_punctuation=True)"
   ]
  },
  {
   "cell_type": "code",
   "execution_count": 307,
   "id": "5749648c-a523-4155-9645-931ac0f7d714",
   "metadata": {},
   "outputs": [],
   "source": [
    "response_p2 = transcribe(path+\"/chunk2.wav\", enable_automatic_punctuation=True)"
   ]
  },
  {
   "cell_type": "code",
   "execution_count": 308,
   "id": "00beef39-ce18-4b91-8124-a0c3fb1dea2b",
   "metadata": {},
   "outputs": [],
   "source": [
    "response_p3 = transcribe(path+\"/chunk3.wav\", enable_automatic_punctuation=True)"
   ]
  },
  {
   "cell_type": "code",
   "execution_count": null,
   "id": "892d3f55-79b4-495b-bb15-0d39389c3e5b",
   "metadata": {},
   "outputs": [],
   "source": [
    "response_p2"
   ]
  },
  {
   "cell_type": "code",
   "execution_count": 322,
   "id": "766e5a55-2254-44a5-8fe0-8928b703ef98",
   "metadata": {
    "tags": []
   },
   "outputs": [],
   "source": [
    "# this code is modified to include punctuation and offsets. \n",
    "# I do not remember the original code to cite.\n",
    "def subtitle_generation_wpunc(speech_to_text_response, offset_seconds=0, offset_micros=0):\n",
    "    transcriptions = []\n",
    "    index = 0\n",
    " \n",
    "    for result in speech_to_text_response.results:\n",
    "        try:\n",
    "            if result.alternatives[0].words[0].start_time.seconds:\n",
    "                start_sec = result.alternatives[0].words[0].start_time.seconds \n",
    "                start_microsec = result.alternatives[0].words[0].start_time.microseconds\n",
    "            else:\n",
    "                start_sec = 0\n",
    "                start_microsec = 0 \n",
    "\n",
    "            last_word_end_sec = result.alternatives[0].words[-1].end_time.seconds\n",
    "            last_word_end_microsec = result.alternatives[0].words[-1].end_time.microseconds\n",
    "            \n",
    "            transcript = result.alternatives[0].words[0].word\n",
    "            \n",
    "            index += 1 \n",
    "\n",
    "            for i in range(len(result.alternatives[0].words) - 1):\n",
    "                try:\n",
    "                    word = result.alternatives[0].words[i + 1].word\n",
    "                    word_start_sec = result.alternatives[0].words[i + 1].start_time.seconds\n",
    "                    word_start_microsec = result.alternatives[0].words[i + 1].start_time.microseconds\n",
    "                    word_end_sec = result.alternatives[0].words[i + 1].end_time.seconds\n",
    "                    word_end_microsec = result.alternatives[0].words[i + 1].end_time.microseconds\n",
    "                        \n",
    "                    transcript = transcript + \" \" + word\n",
    "                    \n",
    "                    if word[-1] in ['.','?','!']:\n",
    "                        \n",
    "                        previous_word_end_sec = result.alternatives[0].words[i].end_time.seconds\n",
    "                        previous_word_end_microsec = result.alternatives[0].words[i].end_time.microseconds\n",
    "                        \n",
    "                        td_start = datetime.timedelta(0, start_sec+offset_seconds, start_microsec+offset_micros)\n",
    "                        td_end = datetime.timedelta(0, previous_word_end_sec+offset_seconds, previous_word_end_microsec+offset_micros)\n",
    "                        \n",
    "                        transcriptions.append(srt.Subtitle(index, td_start, td_end, transcript))\n",
    "                        \n",
    "                        #print(offset_seconds, offset_micros, td_start, td_end)\n",
    "                        \n",
    "                        start_sec = word_start_sec\n",
    "                        start_microsec = word_start_microsec\n",
    "                        \n",
    "                        # reset\n",
    "                        transcript = ''\n",
    "                        \n",
    "                        index += 1\n",
    "                except IndexError:\n",
    "                    pass\n",
    "\n",
    "            td_start = datetime.timedelta(0, start_sec+offset_seconds, offset_micros+start_microsec)\n",
    "            td_end = datetime.timedelta(0, last_word_end_sec+offset_seconds, offset_micros+last_word_end_microsec)\n",
    "            transcriptions.append(srt.Subtitle(index,td_start , td_end , transcript))\n",
    "            \n",
    "            # print(offset_seconds, offset_micros, td_start, td_end)\n",
    "            \n",
    "            index += 1\n",
    "        except IndexError:\n",
    "            pass\n",
    "    \n",
    "    # turn transcription list into subtitles\n",
    "    subtitles = srt.compose(transcriptions)\n",
    "    return subtitles"
   ]
  },
  {
   "cell_type": "code",
   "execution_count": 311,
   "id": "0450ef10-7a65-4cc5-b237-88fcd245cd6d",
   "metadata": {},
   "outputs": [],
   "source": [
    "transacript = subtitle_generation_wpunc(response_p0, offset_seconds=0)"
   ]
  },
  {
   "cell_type": "code",
   "execution_count": 312,
   "id": "1c62f26a-b7c1-4d64-83f9-3e62d6213443",
   "metadata": {},
   "outputs": [],
   "source": [
    "transacript += subtitle_generation_wpunc(response_p1, offset_seconds=chunk_length_ms/1000)"
   ]
  },
  {
   "cell_type": "code",
   "execution_count": 313,
   "id": "1fe3ef75-350a-40b2-846b-9325e507b610",
   "metadata": {},
   "outputs": [],
   "source": [
    "transacript += subtitle_generation_wpunc(response_p2, offset_seconds=2*chunk_length_ms/1000)"
   ]
  },
  {
   "cell_type": "code",
   "execution_count": 314,
   "id": "8de5e2dc-ac6e-4397-8647-d2928f5622b5",
   "metadata": {},
   "outputs": [],
   "source": [
    "transacript += subtitle_generation_wpunc(response_p3, offset_seconds=3*chunk_length_ms/1000)"
   ]
  },
  {
   "cell_type": "code",
   "execution_count": null,
   "id": "72aee816-0464-4e8b-9705-09c3c749c376",
   "metadata": {},
   "outputs": [],
   "source": [
    "transacript"
   ]
  },
  {
   "cell_type": "code",
   "execution_count": 320,
   "id": "8d1d479b-ff2f-4c3e-ab55-760b3578d746",
   "metadata": {},
   "outputs": [],
   "source": [
    "with open(root+\"/\"+file+\".srt\", \"w\") as f:\n",
    "    f.write(transacript)"
   ]
  }
 ],
 "metadata": {
  "kernelspec": {
   "display_name": "Python 3 (ipykernel)",
   "language": "python",
   "name": "python3"
  },
  "language_info": {
   "codemirror_mode": {
    "name": "ipython",
    "version": 3
   },
   "file_extension": ".py",
   "mimetype": "text/x-python",
   "name": "python",
   "nbconvert_exporter": "python",
   "pygments_lexer": "ipython3",
   "version": "3.8.10"
  }
 },
 "nbformat": 4,
 "nbformat_minor": 5
}
